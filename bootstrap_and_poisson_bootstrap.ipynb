{
 "cells": [
  {
   "cell_type": "markdown",
   "id": "5463b38a",
   "metadata": {},
   "source": [
    "Импортируем необходимые библиотеки для работы с данными"
   ]
  },
  {
   "cell_type": "code",
   "execution_count": 1,
   "id": "93a52e8f",
   "metadata": {},
   "outputs": [],
   "source": [
    "import pandas as pd\n",
    "import seaborn as sns\n",
    "from matplotlib import pyplot as plt\n",
    "import numpy as np\n",
    "from io import StringIO\n",
    "import re\n",
    "import requests\n",
    "from urllib.parse import urlencode\n",
    "import time\n",
    "%matplotlib inline"
   ]
  },
  {
   "cell_type": "markdown",
   "id": "975104d9",
   "metadata": {},
   "source": [
    "Выгрузим наши дата сеты и проведем базовую проверку на количество строк, количество пропусков и на типы данных!"
   ]
  },
  {
   "cell_type": "code",
   "execution_count": 2,
   "id": "3c7873bb",
   "metadata": {},
   "outputs": [],
   "source": [
    "# Реализуем функцию для выгрузки файлов с гугл диска\n",
    "def df_downloader(link, separator=','):\n",
    "    # Извлекаем ID файла из ссылки\n",
    "    file_id = link.split('/d/')[1].split('/')[0]\n",
    "    \n",
    "    # Формируем ссылку на скачивание\n",
    "    download_url = f'https://drive.google.com/uc?id={file_id}'\n",
    "    \n",
    "    # Отправляем запрос на данные\n",
    "    response = requests.get(download_url)\n",
    "    \n",
    "    # Проверяем статус ответа\n",
    "    if response.status_code == 200:\n",
    "        # Читаем скачанный файл с выбранным разделителем\n",
    "        df_temp = pd.read_csv(StringIO(response.text), sep=separator)\n",
    "        return df_temp\n",
    "    else:\n",
    "        print(f\"Ошибка при скачивании файла: {response.status_code} - {response.text}\")\n",
    "        return None\n",
    "\n",
    "\n",
    "groups_url = 'https://drive.google.com/file/d/1-KrIB3jYebsGJbN93MwgXtOD9rrTt1XN/view?usp=sharing'\n",
    "active_studs_url = 'https://drive.google.com/file/d/1-LmgoSVmzV0bfIumUQuZJIxoC4PQb9zL/view?usp=sharing'\n",
    "checks_url = 'https://drive.google.com/file/d/1-c8BfF2AXbjt_WzhEmRaskeX8CWqRBhK/view?usp=sharing'\n",
    "\n",
    "groups = df_downloader(groups_url)\n",
    "active_studs = df_downloader(active_studs_url)\n",
    "checks = df_downloader(checks_url)\n"
   ]
  },
  {
   "cell_type": "markdown",
   "id": "09d6efe4",
   "metadata": {},
   "source": [
    "Предобработаем для удобства датафрейм **groups**, сделав отдельную колонку с id студента \n",
    "и отдельную с принадлежностью к контрольной либо тестовой группе. Понимаю, что можно при выгрузке файла другой сепаратор указать, но я намеренно оставил ',' , чтобы потом провести некую обработку данных в колонках!"
   ]
  },
  {
   "cell_type": "code",
   "execution_count": 3,
   "id": "91580cf0",
   "metadata": {},
   "outputs": [],
   "source": [
    "groups['student_id'] = groups['id;grp'].apply(lambda x: x.split(';')[0])\n",
    "groups['group'] = groups['id;grp'].apply(lambda x: x.split(';')[1])\n",
    "groups = groups[['student_id', 'group']]"
   ]
  },
  {
   "cell_type": "code",
   "execution_count": 4,
   "id": "55e65e85",
   "metadata": {},
   "outputs": [
    {
     "data": {
      "text/plain": [
       "student_id    0\n",
       "group         0\n",
       "dtype: int64"
      ]
     },
     "execution_count": 4,
     "metadata": {},
     "output_type": "execute_result"
    }
   ],
   "source": [
    "groups.isna().sum()"
   ]
  },
  {
   "cell_type": "code",
   "execution_count": 5,
   "id": "3892cbf4",
   "metadata": {},
   "outputs": [
    {
     "data": {
      "text/plain": [
       "student_id    object\n",
       "group         object\n",
       "dtype: object"
      ]
     },
     "execution_count": 5,
     "metadata": {},
     "output_type": "execute_result"
    }
   ],
   "source": [
    "groups.dtypes"
   ]
  },
  {
   "cell_type": "code",
   "execution_count": 6,
   "id": "ceb9c69f",
   "metadata": {},
   "outputs": [
    {
     "data": {
      "text/plain": [
       "group\n",
       "B    59813\n",
       "A    14671\n",
       "Name: count, dtype: int64"
      ]
     },
     "execution_count": 6,
     "metadata": {},
     "output_type": "execute_result"
    }
   ],
   "source": [
    "groups.group.value_counts()"
   ]
  },
  {
   "cell_type": "markdown",
   "id": "84188527",
   "metadata": {},
   "source": [
    "C датафреймом **groups** всё в порядке (пропусков нет, колонки преведены к нужным типам данных). Обратим внимание на перекос выборок для контрольной и экспрериментальной групп! Экспериментальная группа группа примерно в **4** раза больше контрольной!"
   ]
  },
  {
   "cell_type": "code",
   "execution_count": 7,
   "id": "a0114f48",
   "metadata": {},
   "outputs": [
    {
     "data": {
      "text/plain": [
       "student_id    0\n",
       "dtype: int64"
      ]
     },
     "execution_count": 7,
     "metadata": {},
     "output_type": "execute_result"
    }
   ],
   "source": [
    "active_studs.isna().sum()"
   ]
  },
  {
   "cell_type": "code",
   "execution_count": 8,
   "id": "dd6219fe",
   "metadata": {},
   "outputs": [
    {
     "data": {
      "text/plain": [
       "student_id    int64\n",
       "dtype: object"
      ]
     },
     "execution_count": 8,
     "metadata": {},
     "output_type": "execute_result"
    }
   ],
   "source": [
    "active_studs.dtypes"
   ]
  },
  {
   "cell_type": "code",
   "execution_count": 9,
   "id": "0bad9dfd",
   "metadata": {},
   "outputs": [],
   "source": [
    "# Изменим тип данных колонки student_id с int на odject\n",
    "active_studs['student_id'] = active_studs['student_id'].astype(str)"
   ]
  },
  {
   "cell_type": "code",
   "execution_count": 10,
   "id": "e033a067",
   "metadata": {},
   "outputs": [
    {
     "data": {
      "text/plain": [
       "8341"
      ]
     },
     "execution_count": 10,
     "metadata": {},
     "output_type": "execute_result"
    }
   ],
   "source": [
    "active_studs.student_id.nunique()"
   ]
  },
  {
   "cell_type": "markdown",
   "id": "b98c2320",
   "metadata": {},
   "source": [
    "C датафреймом **active_studs** всё в порядке. У нас **8341** активный студент (зашедшие на платформу в дни проведения эксперимента)!"
   ]
  },
  {
   "cell_type": "markdown",
   "id": "01d9c62b",
   "metadata": {},
   "source": [
    "Предобработаем для удобства датафрейм **checks**, сделав отдельную колонку с id студента  \n",
    "и отдельную с оплатой студента."
   ]
  },
  {
   "cell_type": "code",
   "execution_count": 11,
   "id": "03d23253",
   "metadata": {},
   "outputs": [],
   "source": [
    "checks['student_id'] = checks['student_id;\"rev\"'].apply(lambda x: x.split(';')[0])\n",
    "checks['revenue'] = checks['student_id;\"rev\"'].apply(lambda x: x.split(';')[1])\n",
    "checks = checks[['student_id', 'revenue']]"
   ]
  },
  {
   "cell_type": "code",
   "execution_count": 12,
   "id": "79c881e9",
   "metadata": {},
   "outputs": [
    {
     "data": {
      "text/plain": [
       "student_id    0\n",
       "revenue       0\n",
       "dtype: int64"
      ]
     },
     "execution_count": 12,
     "metadata": {},
     "output_type": "execute_result"
    }
   ],
   "source": [
    "checks.isna().sum()"
   ]
  },
  {
   "cell_type": "code",
   "execution_count": 13,
   "id": "b74d393c",
   "metadata": {},
   "outputs": [
    {
     "data": {
      "text/plain": [
       "student_id    object\n",
       "revenue       object\n",
       "dtype: object"
      ]
     },
     "execution_count": 13,
     "metadata": {},
     "output_type": "execute_result"
    }
   ],
   "source": [
    "checks.dtypes"
   ]
  },
  {
   "cell_type": "code",
   "execution_count": 14,
   "id": "ee36ef2a",
   "metadata": {},
   "outputs": [],
   "source": [
    "# Тип колонки с оплатой изменим с object на float\n",
    "checks['revenue'] = checks['revenue'].astype(float)"
   ]
  },
  {
   "cell_type": "code",
   "execution_count": 15,
   "id": "17e5bc71",
   "metadata": {},
   "outputs": [
    {
     "data": {
      "text/plain": [
       "541"
      ]
     },
     "execution_count": 15,
     "metadata": {},
     "output_type": "execute_result"
    }
   ],
   "source": [
    "checks.student_id.nunique()"
   ]
  },
  {
   "cell_type": "code",
   "execution_count": 16,
   "id": "23f2bf5f",
   "metadata": {},
   "outputs": [
    {
     "data": {
      "text/plain": [
       "array([1], dtype=int64)"
      ]
     },
     "execution_count": 16,
     "metadata": {},
     "output_type": "execute_result"
    }
   ],
   "source": [
    "# Обратим внимание на то, что в наших данных у кажлого платящего студента есть только 1 оплата\n",
    "checks.groupby('student_id', as_index=False).agg({'revenue' : 'count'}).revenue.unique()"
   ]
  },
  {
   "cell_type": "markdown",
   "id": "c2101992",
   "metadata": {},
   "source": [
    "C датафреймом **checks** всё в порядке. У нас **541** платящий студент в дни проведения эксперимента и у каждого платящего студента всего 1 оплата! "
   ]
  },
  {
   "cell_type": "markdown",
   "id": "730acc02",
   "metadata": {},
   "source": [
    "### Соберём датафрейм **active_users_and_checks** с платящими и не платящими студентами, поучавствовавшими в эксперименте, с разбивкой по группам, по которому будем обсчитывать интересующие нас  метрики!"
   ]
  },
  {
   "cell_type": "code",
   "execution_count": 17,
   "id": "71e0e95e",
   "metadata": {},
   "outputs": [],
   "source": [
    "active_users_and_checks = active_studs.merge(checks, on='student_id', how = 'left').merge(groups, on='student_id')\n",
    "active_users_and_checks['revenue'] = active_users_and_checks['revenue'].round(2)\n",
    "active_users_and_checks['revenue'] = active_users_and_checks['revenue'].fillna(0) # Пропуски в оплатах заполним 0-ми"
   ]
  },
  {
   "cell_type": "code",
   "execution_count": 18,
   "id": "fae58c8a",
   "metadata": {},
   "outputs": [
    {
     "data": {
      "text/plain": [
       "391"
      ]
     },
     "execution_count": 18,
     "metadata": {},
     "output_type": "execute_result"
    }
   ],
   "source": [
    "# Количество платящих студентов, поучавствовавших в эксперименте\n",
    "active_users_and_checks.query('revenue != 0').student_id.nunique()"
   ]
  },
  {
   "cell_type": "code",
   "execution_count": 19,
   "id": "b7f15693",
   "metadata": {},
   "outputs": [
    {
     "data": {
      "text/plain": [
       "8328"
      ]
     },
     "execution_count": 19,
     "metadata": {},
     "output_type": "execute_result"
    }
   ],
   "source": [
    "# Количество студентов, поучавствовавших в эксперименте\n",
    "active_users_and_checks.student_id.nunique()"
   ]
  },
  {
   "cell_type": "code",
   "execution_count": 20,
   "id": "700df6d1",
   "metadata": {},
   "outputs": [
    {
     "data": {
      "text/html": [
       "<div>\n",
       "<style scoped>\n",
       "    .dataframe tbody tr th:only-of-type {\n",
       "        vertical-align: middle;\n",
       "    }\n",
       "\n",
       "    .dataframe tbody tr th {\n",
       "        vertical-align: top;\n",
       "    }\n",
       "\n",
       "    .dataframe thead th {\n",
       "        text-align: right;\n",
       "    }\n",
       "</style>\n",
       "<table border=\"1\" class=\"dataframe\">\n",
       "  <thead>\n",
       "    <tr style=\"text-align: right;\">\n",
       "      <th></th>\n",
       "      <th>group</th>\n",
       "      <th>student_id</th>\n",
       "    </tr>\n",
       "  </thead>\n",
       "  <tbody>\n",
       "    <tr>\n",
       "      <th>0</th>\n",
       "      <td>A</td>\n",
       "      <td>78</td>\n",
       "    </tr>\n",
       "    <tr>\n",
       "      <th>1</th>\n",
       "      <td>B</td>\n",
       "      <td>313</td>\n",
       "    </tr>\n",
       "  </tbody>\n",
       "</table>\n",
       "</div>"
      ],
      "text/plain": [
       "  group  student_id\n",
       "0     A          78\n",
       "1     B         313"
      ]
     },
     "execution_count": 20,
     "metadata": {},
     "output_type": "execute_result"
    }
   ],
   "source": [
    "# Количество платящих студентов в эсперименте в разбивке по группам\n",
    "active_users_and_checks.query('revenue != 0').groupby('group', as_index=False).agg({'student_id': 'nunique'})"
   ]
  },
  {
   "cell_type": "code",
   "execution_count": 21,
   "id": "f046e7a9",
   "metadata": {},
   "outputs": [
    {
     "data": {
      "text/html": [
       "<div>\n",
       "<style scoped>\n",
       "    .dataframe tbody tr th:only-of-type {\n",
       "        vertical-align: middle;\n",
       "    }\n",
       "\n",
       "    .dataframe tbody tr th {\n",
       "        vertical-align: top;\n",
       "    }\n",
       "\n",
       "    .dataframe thead th {\n",
       "        text-align: right;\n",
       "    }\n",
       "</style>\n",
       "<table border=\"1\" class=\"dataframe\">\n",
       "  <thead>\n",
       "    <tr style=\"text-align: right;\">\n",
       "      <th></th>\n",
       "      <th>group</th>\n",
       "      <th>student_id</th>\n",
       "    </tr>\n",
       "  </thead>\n",
       "  <tbody>\n",
       "    <tr>\n",
       "      <th>0</th>\n",
       "      <td>A</td>\n",
       "      <td>1535</td>\n",
       "    </tr>\n",
       "    <tr>\n",
       "      <th>1</th>\n",
       "      <td>B</td>\n",
       "      <td>6793</td>\n",
       "    </tr>\n",
       "  </tbody>\n",
       "</table>\n",
       "</div>"
      ],
      "text/plain": [
       "  group  student_id\n",
       "0     A        1535\n",
       "1     B        6793"
      ]
     },
     "execution_count": 21,
     "metadata": {},
     "output_type": "execute_result"
    }
   ],
   "source": [
    "# Количество студентов, поучавствовавших в эсперименте в разбивке по группам\n",
    "active_users_and_checks.groupby('group', as_index=False).agg({'student_id': 'nunique'})"
   ]
  },
  {
   "cell_type": "code",
   "execution_count": 22,
   "id": "ae04311a",
   "metadata": {},
   "outputs": [],
   "source": [
    "# Сформируем отдельно контрольную и тестовую группы\n",
    "group_A = active_users_and_checks.query('group == \"A\" and revenue != 0')\n",
    "group_B = active_users_and_checks.query('group == \"B\" and revenue != 0')"
   ]
  },
  {
   "cell_type": "markdown",
   "id": "220e001a-d457-4f19-9284-9a69381b797a",
   "metadata": {},
   "source": [
    "Получим интересующие нас выборки **ARPPU** в контрольной и тестовой группе"
   ]
  },
  {
   "cell_type": "code",
   "execution_count": 23,
   "id": "9b3255d3",
   "metadata": {},
   "outputs": [],
   "source": [
    "ARPPU_control = group_A.revenue\n",
    "ARPPU_test = group_B.revenue"
   ]
  },
  {
   "cell_type": "code",
   "execution_count": 24,
   "id": "04bbc12f",
   "metadata": {},
   "outputs": [],
   "source": [
    "ARPPU_A = ARPPU_control.mean().round(2)\n",
    "ARPPU_B = ARPPU_test.mean().round(2)"
   ]
  },
  {
   "cell_type": "code",
   "execution_count": 25,
   "id": "c419a1bf",
   "metadata": {},
   "outputs": [
    {
     "name": "stdout",
     "output_type": "stream",
     "text": [
      "ARPPU в контрольной группе = 933.59\n",
      "ARPPU в тестовой группе = 1255.83\n",
      "ARPPU в тестовой группе увеличился на 34.52%\n"
     ]
    }
   ],
   "source": [
    "# Посмотрим на различия в ARPPU в контрольной и тестовой группах\n",
    "print(f'ARPPU в контрольной группе = {ARPPU_A}')\n",
    "print(f'ARPPU в тестовой группе = {ARPPU_B}')\n",
    "print(f'ARPPU в тестовой группе увеличился на {((ARPPU_test.mean().round(2) - ARPPU_control.mean().round(2)) * 100 / ARPPU_control.mean().round(2)).round(2)}%')"
   ]
  },
  {
   "cell_type": "markdown",
   "id": "95d36cee",
   "metadata": {},
   "source": [
    "По предварительным расчётам мы видим , что в тестовой группе увеличилась **ARPPU** на **34.52%**!"
   ]
  },
  {
   "cell_type": "markdown",
   "id": "920e93e6",
   "metadata": {},
   "source": [
    "### Теперь необходимо узнать статистически значимы ли эти различия!"
   ]
  },
  {
   "cell_type": "markdown",
   "id": "da1b5ed1",
   "metadata": {},
   "source": [
    "**Так как мы имеем дело с денежной метрикой, то понимаем что ARPPU и распределены ненормально (скорее всего будет достаточно много небольших трат или чеков и мало больших чеков) и использовать проверку на нормальность при помощи теста Шапиро-Уилка, к примеру, будет излишним! Для проверки статистической значимости в изменениях ARPPU будем использовать бутстрап**"
   ]
  },
  {
   "cell_type": "markdown",
   "id": "1e898082",
   "metadata": {},
   "source": [
    "**Проверим статистическую значимость изменений в метрике ARPPU!**"
   ]
  },
  {
   "cell_type": "markdown",
   "id": "a665beda",
   "metadata": {},
   "source": [
    "Сформулируем нулевую и альтернативную гипотезы:\n",
    "\n",
    "H0 - cтатистически значимых различий **ARPPU** в контрольной и тестовой группах нет.\n",
    "\n",
    "H1 - ARPPU в тестовой группе статистически значимо увеличилось по сравнению с **ARPPU** в контрольной группе."
   ]
  },
  {
   "cell_type": "code",
   "execution_count": 26,
   "id": "31172f73",
   "metadata": {},
   "outputs": [],
   "source": [
    "# Реализуем функцию для формирования подвыборок и проверки на стат значимость в ARPPU\n",
    "def bootstrap(control, test, alpha=0.05): \n",
    "    \n",
    "    start_time = time.time()\n",
    "    # Определение ARPPU в контрольной и тестовой группах\n",
    "    mean_control = np.mean(control)\n",
    "    mean_test = np.mean(test)\n",
    "    print(f\"Cреднее в контрольной группе: {mean_control}\")\n",
    "    print(f\"Cреднее в тестовой группе: {mean_test}\")\n",
    "    \n",
    "    # Генерация бутстрап-подвыборок\n",
    "    n_bootstrap_samples = 10000\n",
    "    bootstrap_means_diff = []\n",
    "    \n",
    "    for _ in range(n_bootstrap_samples):\n",
    "        # Генерируем выборки , размером равным максимальному из наших групп\n",
    "        bootstrap_sample_control = control.sample(len(control), replace=True)\n",
    "        bootstrap_sample_test = test.sample(len(test), replace=True)\n",
    "        \n",
    "        # Расчёт средних в каждой подвыборке\n",
    "        bootstrap_mean_control = np.mean(bootstrap_sample_control)\n",
    "        bootstrap_mean_test = np.mean(bootstrap_sample_test)\n",
    "        \n",
    "        # Сборка списка из изменений средних в подвыборках\n",
    "        bootstrap_mean_diff = bootstrap_mean_test - bootstrap_mean_control\n",
    "        bootstrap_means_diff.append(bootstrap_mean_diff)\n",
    "    \n",
    "\n",
    "    # Расчет доверительного интервала изменений средних\n",
    "    lower_bound = np.percentile(bootstrap_means_diff, 100 * (alpha / 2))\n",
    "    upper_bound = np.percentile(bootstrap_means_diff, 100 * (1 - alpha / 2))\n",
    "    confidence_interval = (lower_bound, upper_bound)\n",
    "    \n",
    "    # Визуализация распределения бутстрап-выборок\n",
    "    plt.figure(figsize=(8, 6))\n",
    "    sns.histplot(data=bootstrap_means_diff, legend=False)\n",
    "    plt.title('Разница между средними в группах')\n",
    "    plt.axvline(x = lower_bound, color='r', linestyle='--')\n",
    "    plt.axvline(x = upper_bound, color='r', linestyle='--')\n",
    "    plt.tight_layout()\n",
    "    plt.grid()\n",
    "    \n",
    "    classic_time = time.time() - start_time\n",
    "    print(f\"Время выполнения классического бутстрапа: {classic_time:.4f} секунд\")\n",
    "    \n",
    "    return {'confidence_interval': confidence_interval}"
   ]
  },
  {
   "cell_type": "code",
   "execution_count": 27,
   "id": "3bf11430",
   "metadata": {},
   "outputs": [
    {
     "name": "stdout",
     "output_type": "stream",
     "text": [
      "Cреднее в контрольной группе: 933.5897435897435\n",
      "Cреднее в тестовой группе: 1255.8274760383385\n",
      "Время выполнения классического бутстрапа: 1.2643 секунд\n"
     ]
    },
    {
     "data": {
      "text/plain": [
       "{'confidence_interval': (92.659670680757, 536.9460842139756)}"
      ]
     },
     "execution_count": 27,
     "metadata": {},
     "output_type": "execute_result"
    },
    {
     "data": {
      "image/png": "[encoded data removed]",
      "text/plain": [
       "<Figure size 800x600 with 1 Axes>"
      ]
     },
     "metadata": {},
     "output_type": "display_data"
    }
   ],
   "source": [
    "bootstrap(ARPPU_control, ARPPU_test, alpha=0.05)"
   ]
  },
  {
   "cell_type": "markdown",
   "id": "9b759868",
   "metadata": {},
   "source": [
    "Мы видим что доверительный интервал изменений средних **ARPPU** из подвыборок (count = 10000) не пересекает 0, тогда мы можем говорить о том , что у нас достаточно оснований , для того чтобы отклонить 0-ю гипотезу и изменения в **ARPPU**  в контрольной и тестовой группах статистически значимы! "
   ]
  },
  {
   "cell_type": "markdown",
   "id": "8cb778cf",
   "metadata": {},
   "source": [
    "**Так как классический бутстрап очень ресурсозатратен в плане вычислительной мощности , а подвыборок мы хотим извлекать очень много для достоверности результатов, то его применение при больших выборках в контрольной и тестовой группах (сотни тысяч в каждой группе) вызывает большие сомнения! Конкретно в нашем случае выборки в контроле и тесте не очень большие и всё работает быстро, но мы предположим , что они были бы огромными и попытаемся реализовать Пуассоновский бутстрап , в котором подвыборки будут формироваться не просто случайным сэмплированием с повторением, а из Пуассоновского распределения c lambda = 1, т е для каждого наблюдения в бутстрап выборке мы получим вес этого наблюдения из Пуассоновского распределения и умножим его на значение ARPPU и так повторим 10000 раз. Таким обоазом, помятуя о том что Пуассоновский бутстрап не зависит от конечного количества наблюдений, а может выполняться потоково и может быть остановлен в любой момент, мы хотим ускорить наш тест в разы!**"
   ]
  },
  {
   "cell_type": "markdown",
   "id": "fa67eb43",
   "metadata": {},
   "source": [
    "Проверим как работает Пуассновский бутстрап для наших выборок, хотя у нас и небольшое количество наблюдений!"
   ]
  },
  {
   "cell_type": "code",
   "execution_count": 28,
   "id": "30b08a8b",
   "metadata": {},
   "outputs": [],
   "source": [
    "def generate_poisson_samples(data, lambda_param, B):\n",
    "    \"\"\"Генерация пуассоновских выборок.\"\"\"\n",
    "    # Генерируем B выборок из пуассоновского распределения\n",
    "    return np.random.poisson(lam=lambda_param, size=(len(data), B))\n",
    "\n",
    "def poisson_bootstrap(control, test, B, alpha=0.05):\n",
    "    start_time = time.time()\n",
    "    \n",
    "    lambda_poisson = 1  # Параметр λ для пуассоновского распределения\n",
    "    \n",
    "    # Генерация бутстрап-выборок для контрольной и тестовой групп\n",
    "    df_result_control = generate_poisson_samples(control, lambda_poisson, B)\n",
    "    df_result_test = generate_poisson_samples(test, lambda_poisson, B)\n",
    "    # Подсчёт средних нельзя выполнять командой mean, т к у нас не всегда количество появлений строки совпадает с длиной колонки\n",
    "    means_control = (df_result_control.T * control).sum(axis = 1) / df_result_control.T.sum(axis = 1)\n",
    "    means_test = (df_result_test.T * test).sum(axis = 1) / df_result_test.T.sum(axis = 1)\n",
    "    \n",
    "    # Рассчитываем разницу средних\n",
    "    differenc = means_test - means_control\n",
    "    \n",
    "    # Рассчитываем доверительный интервал\n",
    "    lower_bound = np.percentile(differenc, 100 * (alpha / 2))\n",
    "    upper_bound = np.percentile(differenc, 100 * (1 - alpha / 2))\n",
    "    confidence_interval = (lower_bound, upper_bound)\n",
    "    \n",
    "    # Визуализация распределения бутстрап-выборок\n",
    "    plt.figure(figsize=(8, 6))\n",
    "    sns.histplot(differenc, bins=30, legend=False)\n",
    "    plt.title('Разница между средними в группах')\n",
    "    plt.axvline(x=lower_bound, color='r', linestyle='--')\n",
    "    plt.axvline(x=upper_bound, color='r', linestyle='--')\n",
    "    plt.tight_layout()\n",
    "    plt.grid()\n",
    "    \n",
    "    classic_time = time.time() - start_time\n",
    "    print(f\"Время выполнения пуассоновского бутстрапа: {classic_time:.4f} секунд\")\n",
    "    \n",
    "    return {'confidence_interval': confidence_interval}\n",
    "\n"
   ]
  },
  {
   "cell_type": "code",
   "execution_count": 29,
   "id": "9b05f00a",
   "metadata": {},
   "outputs": [
    {
     "name": "stdout",
     "output_type": "stream",
     "text": [
      "Время выполнения пуассоновского бутстрапа: 0.1535 секунд\n"
     ]
    },
    {
     "data": {
      "text/plain": [
       "{'confidence_interval': (95.2734403467681, 539.8581924262903)}"
      ]
     },
     "execution_count": 29,
     "metadata": {},
     "output_type": "execute_result"
    },
    {
     "data": {
      "image/png": "[encoded data removed]",
      "text/plain": [
       "<Figure size 800x600 with 1 Axes>"
      ]
     },
     "metadata": {},
     "output_type": "display_data"
    }
   ],
   "source": [
    "poisson_bootstrap(list(ARPPU_control), list(ARPPU_test), B=10000, alpha=0.05)"
   ]
  },
  {
   "cell_type": "markdown",
   "id": "dd037931",
   "metadata": {},
   "source": [
    "Мы видим что доверительный интервал изменений средних **ARPPU** из подвыборок (count = 10000) не пересекает 0 и наш Пуассоновский бутстрап также показал стат значимые различия в группах и код выполнился в 6 раз быстрее! Ну а вообще Пуассоновский бутстрап предназначен для больших выборок (сотни тысяч строк),  при которых вероятность появления каждого элемента в каждой итерации бутстрапа сходится к Пуассоновскому распределению и не зависит от количества наблюдений в выборке, в то время как в классическом бутстрапе такая вероятность появления элемента в каждой итерации носит биномиальный характер распределения! "
   ]
  },
  {
   "cell_type": "code",
   "execution_count": 30,
   "id": "a786b6c0",
   "metadata": {},
   "outputs": [
    {
     "name": "stdout",
     "output_type": "stream",
     "text": [
      "Время выполнения пуассоновского метода: 28.0557 секунд\n",
      "Время выполнения классического метода: 50.7148 секунд\n"
     ]
    }
   ],
   "source": [
    "# Смоделируем ситуацию , в которой нам нужно сэмплировать выборку в 100000 элементов разными способами\n",
    "# и посмотрим на время выполнения данных сэмплов\n",
    "sample_size = 100000 # объем выборки\n",
    "lambda_param_control = 1 / ARPPU_control.mean()  # параметр λ\n",
    "data = np.random.exponential(scale=1/lambda_param_control, size=sample_size).tolist()\n",
    "B = 10000\n",
    "\n",
    "# Пуассоновский сэмпл\n",
    "start_time = time.time()\n",
    "weights_1 = np.random.poisson(1, (sample_size, B))\n",
    "weights_1.T * data\n",
    "classic_time = time.time() - start_time\n",
    "print(f\"Время выполнения пуассоновского метода: {classic_time:.4f} секунд\")\n",
    "\n",
    "# Классический сэмпл с повторением\n",
    "start_time_2 = time.time()\n",
    "list_1 = []\n",
    "for i in range(B):\n",
    "    weights_2 = pd.Series(data).sample(sample_size, replace = True)\n",
    "    list_1.append(weights_2)\n",
    "classic_time_2 = time.time() - start_time_2   \n",
    "print(f\"Время выполнения классического метода: {classic_time_2:.4f} секунд\")"
   ]
  },
  {
   "cell_type": "markdown",
   "id": "1939f491-e3db-4a87-b905-9c13cf2d31f3",
   "metadata": {},
   "source": [
    "Видим, что даже на выборке в 100000 наблюдений Пуассоновский бутстрап оказался в 2 раза быстрее!"
   ]
  },
  {
   "cell_type": "markdown",
   "id": "cc561c77",
   "metadata": {},
   "source": [
    "### Выводы:"
   ]
  },
  {
   "cell_type": "markdown",
   "id": "e917e80a",
   "metadata": {},
   "source": [
    " **В результате исследования классического и Пуассоновского бустрапа можно сделать вывод о том, что на больших объемах данных (порядка миллиона наблюдений) классический бутстрап очень сложно применять из за ресурсозатратности, в то время как Пуассоновский бутстрап на таких выборках будет работать гораздо быстрее**"
   ]
  },
  {
   "cell_type": "code",
   "execution_count": null,
   "id": "9f7b6fb4-fd1d-44f1-9afc-f9d69b6c01fb",
   "metadata": {},
   "outputs": [],
   "source": []
  }
 ],
 "metadata": {
  "kernelspec": {
   "display_name": "Python 3 (ipykernel)",
   "language": "python",
   "name": "python3"
  },
  "language_info": {
   "codemirror_mode": {
    "name": "ipython",
    "version": 3
   },
   "file_extension": ".py",
   "mimetype": "text/x-python",
   "name": "python",
   "nbconvert_exporter": "python",
   "pygments_lexer": "ipython3",
   "version": "3.11.7"
  }
 },
 "nbformat": 4,
 "nbformat_minor": 5
}
